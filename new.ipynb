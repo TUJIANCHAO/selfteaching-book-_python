The first one pro ,I  wish it was finish.
IF  you going to try ,go all the way.otherwise do't even start.
